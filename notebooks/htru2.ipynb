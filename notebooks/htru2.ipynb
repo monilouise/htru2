{
  "nbformat": 4,
  "nbformat_minor": 0,
  "metadata": {
    "colab": {
      "provenance": []
    },
    "kernelspec": {
      "name": "python3",
      "display_name": "Python 3"
    },
    "language_info": {
      "name": "python"
    }
  },
  "cells": [
    {
      "cell_type": "code",
      "execution_count": 1,
      "metadata": {
        "id": "xL99GVRSjLlq"
      },
      "outputs": [],
      "source": [
        "import numpy as np\n",
        "from scipy.spatial import distance_matrix\n",
        "import pandas as pd"
      ]
    },
    {
      "cell_type": "code",
      "source": [
        "def calculate_dissimilarity_matrix(X):\n",
        "    dist_mat = distance_matrix(X, X, p=2)\n",
        "    return dist_mat"
      ],
      "metadata": {
        "id": "PBp1cJu3jOY2"
      },
      "execution_count": 2,
      "outputs": []
    },
    {
      "cell_type": "code",
      "source": [
        "df = pd.read_csv('HTRU_2.csv', header=None)\n",
        "df = df.iloc[: , :-1]\n",
        "print(df)"
      ],
      "metadata": {
        "colab": {
          "base_uri": "https://localhost:8080/"
        },
        "id": "mtO8BWySjQL8",
        "outputId": "adf04d2d-d40a-4648-ce97-f35a1fd47d22"
      },
      "execution_count": 11,
      "outputs": [
        {
          "output_type": "stream",
          "name": "stdout",
          "text": [
            "                0          1         2         3           4          5  \\\n",
            "0      140.562500  55.683782 -0.234571 -0.699648    3.199833  19.110426   \n",
            "1      102.507812  58.882430  0.465318 -0.515088    1.677258  14.860146   \n",
            "2      103.015625  39.341649  0.323328  1.051164    3.121237  21.744669   \n",
            "3      136.750000  57.178449 -0.068415 -0.636238    3.642977  20.959280   \n",
            "4       88.726562  40.672225  0.600866  1.123492    1.178930  11.468720   \n",
            "...           ...        ...       ...       ...         ...        ...   \n",
            "17893  136.429688  59.847421 -0.187846 -0.738123    1.296823  12.166062   \n",
            "17894  122.554688  49.485605  0.127978  0.323061   16.409699  44.626893   \n",
            "17895  119.335938  59.935939  0.159363 -0.743025   21.430602  58.872000   \n",
            "17896  114.507812  53.902400  0.201161 -0.024789    1.946488  13.381731   \n",
            "17897   57.062500  85.797340  1.406391  0.089520  188.306020  64.712562   \n",
            "\n",
            "               6           7  \n",
            "0       7.975532   74.242225  \n",
            "1      10.576487  127.393580  \n",
            "2       7.735822   63.171909  \n",
            "3       6.896499   53.593661  \n",
            "4      14.269573  252.567306  \n",
            "...          ...         ...  \n",
            "17893  15.450260  285.931022  \n",
            "17894   2.945244    8.297092  \n",
            "17895   2.499517    4.595173  \n",
            "17896  10.007967  134.238910  \n",
            "17897  -1.597527    1.429475  \n",
            "\n",
            "[17898 rows x 8 columns]\n"
          ]
        }
      ]
    },
    {
      "cell_type": "code",
      "source": [
        "X = df.to_numpy()"
      ],
      "metadata": {
        "id": "O-WjyUG4jfwq"
      },
      "execution_count": 12,
      "outputs": []
    },
    {
      "cell_type": "code",
      "source": [
        "X"
      ],
      "metadata": {
        "colab": {
          "base_uri": "https://localhost:8080/"
        },
        "id": "8Y4N6bv1jqIg",
        "outputId": "95e5e982-ca70-4d1d-e671-a851b5657f7b"
      },
      "execution_count": 13,
      "outputs": [
        {
          "output_type": "execute_result",
          "data": {
            "text/plain": [
              "array([[140.5625    ,  55.68378214,  -0.23457141, ...,  19.11042633,\n",
              "          7.97553179,  74.24222492],\n",
              "       [102.5078125 ,  58.88243001,   0.46531815, ...,  14.86014572,\n",
              "         10.57648674, 127.3935796 ],\n",
              "       [103.015625  ,  39.34164944,   0.32332837, ...,  21.74466875,\n",
              "          7.73582202,  63.17190911],\n",
              "       ...,\n",
              "       [119.3359375 ,  59.93593941,   0.1593631 , ...,  58.8720002 ,\n",
              "          2.49951714,   4.59517265],\n",
              "       [114.5078125 ,  53.90239966,   0.20116138, ...,  13.38173065,\n",
              "         10.00796731, 134.2389095 ],\n",
              "       [ 57.0625    ,  85.79734025,   1.40639105, ...,  64.71256228,\n",
              "         -1.59752658,   1.42947536]])"
            ]
          },
          "metadata": {},
          "execution_count": 13
        }
      ]
    },
    {
      "cell_type": "code",
      "source": [
        "X.shape"
      ],
      "metadata": {
        "colab": {
          "base_uri": "https://localhost:8080/"
        },
        "id": "lU99rVTPj0CQ",
        "outputId": "fa213ef2-a1ec-4e95-e1f8-c66478b2af9b"
      },
      "execution_count": 14,
      "outputs": [
        {
          "output_type": "execute_result",
          "data": {
            "text/plain": [
              "(17898, 8)"
            ]
          },
          "metadata": {},
          "execution_count": 14
        }
      ]
    },
    {
      "cell_type": "code",
      "source": [
        "%%time\n",
        "dist_mat = calculate_dissimilarity_matrix(X)"
      ],
      "metadata": {
        "colab": {
          "base_uri": "https://localhost:8080/"
        },
        "id": "EiYN-L7fj3UB",
        "outputId": "efe4c25d-d2d0-461a-f936-febd3eaeccd9"
      },
      "execution_count": 19,
      "outputs": [
        {
          "output_type": "stream",
          "name": "stdout",
          "text": [
            "CPU times: user 30.1 s, sys: 3.27 s, total: 33.4 s\n",
            "Wall time: 33.3 s\n"
          ]
        }
      ]
    },
    {
      "cell_type": "code",
      "source": [
        "dist_mat"
      ],
      "metadata": {
        "colab": {
          "base_uri": "https://localhost:8080/"
        },
        "id": "wDuzE3ngk7kK",
        "outputId": "eecd7344-77b8-488b-dcca-eb479ce9ee84"
      },
      "execution_count": 16,
      "outputs": [
        {
          "output_type": "execute_result",
          "data": {
            "text/plain": [
              "array([[  0.        ,  65.65918891,  42.54132678, ...,  85.22233975,\n",
              "         65.73269464, 222.75454487],\n",
              "       [ 65.65918891,   0.        ,  67.57623368, ..., 133.25301264,\n",
              "         14.78346463, 236.90010681],\n",
              "       [ 42.54132678,  67.57623368,   0.        , ...,  76.59012923,\n",
              "         73.97471445, 210.50131071],\n",
              "       ...,\n",
              "       [ 85.22233975, 133.25301264,  76.59012923, ...,   0.        ,\n",
              "        139.18729339, 180.15927957],\n",
              "       [ 65.73269464,  14.78346463,  73.97471445, ..., 139.18729339,\n",
              "          0.        , 243.83699363],\n",
              "       [222.75454487, 236.90010681, 210.50131071, ..., 180.15927957,\n",
              "        243.83699363,   0.        ]])"
            ]
          },
          "metadata": {},
          "execution_count": 16
        }
      ]
    },
    {
      "cell_type": "code",
      "source": [
        "dist_mat.shape"
      ],
      "metadata": {
        "colab": {
          "base_uri": "https://localhost:8080/"
        },
        "id": "Dpw-6Nx2lERv",
        "outputId": "c730fdb6-475e-483d-e5af-623152c434a4"
      },
      "execution_count": 17,
      "outputs": [
        {
          "output_type": "execute_result",
          "data": {
            "text/plain": [
              "(17898, 17898)"
            ]
          },
          "metadata": {},
          "execution_count": 17
        }
      ]
    },
    {
      "cell_type": "code",
      "source": [],
      "metadata": {
        "id": "Hl70RYwylIHX"
      },
      "execution_count": null,
      "outputs": []
    }
  ]
}